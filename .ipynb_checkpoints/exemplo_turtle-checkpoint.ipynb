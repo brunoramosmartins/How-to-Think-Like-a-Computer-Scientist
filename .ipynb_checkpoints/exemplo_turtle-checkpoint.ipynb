{
 "cells": [
  {
   "cell_type": "code",
   "execution_count": null,
   "metadata": {},
   "outputs": [],
   "source": [
    "import turtle\n",
    "wn = turtle.Screen()\n",
    "alex = turtle.Turtle()\n",
    "\n",
    "for i in range(4):\n",
    "    alex.forward(50)\n",
    "    alex.left(90)\n",
    "\n",
    "wn.exitonclick()"
   ]
  },
  {
   "cell_type": "code",
   "execution_count": null,
   "metadata": {},
   "outputs": [],
   "source": [
    "for aColor in [\"yellow\", \"red\", \"purple\", \"blue\"]:\n",
    "    alex.forward(50)\n",
    "    alex.left(90)\n",
    "\n",
    "wn.exitonclick()"
   ]
  },
  {
   "cell_type": "code",
   "execution_count": null,
   "metadata": {},
   "outputs": [],
   "source": [
    "for aColor in [\"yellow\", \"red\", \"purple\", \"blue\"]:\n",
    "    alex.color(aColor)\n",
    "    alex.forward(50)\n",
    "    alex.left(90)\n",
    "    \n",
    "wn.exitonclick()"
   ]
  },
  {
   "cell_type": "code",
   "execution_count": null,
   "metadata": {},
   "outputs": [],
   "source": [
    "wn.bgcolor(\"lightgreen\")\n",
    "\n",
    "tess = turtle.Turtle()\n",
    "tess.color(\"blue\")\n",
    "tess.shape(\"turtle\")\n",
    "\n",
    "print(range(5, 60, 2))\n",
    "\n",
    "tess.penup()\n",
    "for size in range(5, 60, 2):\n",
    "    tess.stamp() # Deixa um carimbo no canvas\n",
    "    tess.forward(size)\n",
    "    tess.right(24)\n",
    "\n",
    "wn.exitonclik()"
   ]
  },
  {
   "cell_type": "code",
   "execution_count": null,
   "metadata": {},
   "outputs": [],
   "source": []
  }
 ],
 "metadata": {
  "kernelspec": {
   "display_name": "Python 3",
   "language": "python",
   "name": "python3"
  },
  "language_info": {
   "codemirror_mode": {
    "name": "ipython",
    "version": 3
   },
   "file_extension": ".py",
   "mimetype": "text/x-python",
   "name": "python",
   "nbconvert_exporter": "python",
   "pygments_lexer": "ipython3",
   "version": "3.8.1"
  }
 },
 "nbformat": 4,
 "nbformat_minor": 4
}
